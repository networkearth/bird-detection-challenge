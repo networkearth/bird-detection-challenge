{
 "cells": [
  {
   "cell_type": "code",
   "execution_count": 1,
   "metadata": {},
   "outputs": [],
   "source": [
    "import tensorflow as tf\n",
    "\n",
    "from tensorflow.keras import utils, layers, models"
   ]
  },
  {
   "cell_type": "code",
   "execution_count": 5,
   "metadata": {},
   "outputs": [
    {
     "name": "stdout",
     "output_type": "stream",
     "text": [
      "Found 997 files belonging to 2 classes.\n",
      "Using 798 files for training.\n",
      "Found 997 files belonging to 2 classes.\n",
      "Using 199 files for validation.\n"
     ]
    }
   ],
   "source": [
    "data_dir = '../data/ff1010bird/spectrograms'\n",
    "train_ds = utils.image_dataset_from_directory(\n",
    "  data_dir,\n",
    "  validation_split=0.2,\n",
    "  subset=\"training\",\n",
    "  seed=123,\n",
    "  image_size=(40, 500),\n",
    "  batch_size=32\n",
    ")\n",
    "val_ds = utils.image_dataset_from_directory(\n",
    "  data_dir,\n",
    "  validation_split=0.2,\n",
    "  subset=\"validation\",\n",
    "  seed=123,\n",
    "  image_size=(40, 500),\n",
    "  batch_size=32\n",
    ")"
   ]
  },
  {
   "cell_type": "code",
   "execution_count": 9,
   "metadata": {},
   "outputs": [
    {
     "name": "stdout",
     "output_type": "stream",
     "text": [
      "Model: \"sequential_1\"\n",
      "_________________________________________________________________\n",
      " Layer (type)                Output Shape              Param #   \n",
      "=================================================================\n",
      " conv2d_6 (Conv2D)           (None, 40, 500, 96)       7296      \n",
      "                                                                 \n",
      " max_pooling2d_5 (MaxPooling  (None, 8, 500, 96)       0         \n",
      " 2D)                                                             \n",
      "                                                                 \n",
      " conv2d_7 (Conv2D)           (None, 8, 500, 96)        230496    \n",
      "                                                                 \n",
      " max_pooling2d_6 (MaxPooling  (None, 4, 500, 96)       0         \n",
      " 2D)                                                             \n",
      "                                                                 \n",
      " conv2d_8 (Conv2D)           (None, 4, 500, 96)        230496    \n",
      "                                                                 \n",
      " max_pooling2d_7 (MaxPooling  (None, 2, 500, 96)       0         \n",
      " 2D)                                                             \n",
      "                                                                 \n",
      " conv2d_9 (Conv2D)           (None, 2, 500, 96)        230496    \n",
      "                                                                 \n",
      " max_pooling2d_8 (MaxPooling  (None, 1, 500, 96)       0         \n",
      " 2D)                                                             \n",
      "                                                                 \n",
      " conv2d_10 (Conv2D)          (None, 1, 500, 96)        9312      \n",
      "                                                                 \n",
      " conv2d_11 (Conv2D)          (None, 1, 500, 96)        9312      \n",
      "                                                                 \n",
      " max_pooling2d_9 (MaxPooling  (None, 1, 1, 96)         0         \n",
      " 2D)                                                             \n",
      "                                                                 \n",
      " flatten_1 (Flatten)         (None, 96)                0         \n",
      "                                                                 \n",
      " dense_1 (Dense)             (None, 1)                 97        \n",
      "                                                                 \n",
      "=================================================================\n",
      "Total params: 717,505\n",
      "Trainable params: 717,505\n",
      "Non-trainable params: 0\n",
      "_________________________________________________________________\n"
     ]
    }
   ],
   "source": [
    "model = models.Sequential()\n",
    "model.add(layers.Conv2D(96, (5, 5), input_shape=(40, 500, 3), padding='same'))\n",
    "model.add(layers.MaxPool2D((5, 1)))\n",
    "model.add(layers.Conv2D(96, (5, 5), input_shape=(40, 500, 1), padding='same'))\n",
    "model.add(layers.MaxPool2D((2, 1)))\n",
    "model.add(layers.Conv2D(96, (5, 5), input_shape=(40, 500, 1), padding='same'))\n",
    "model.add(layers.MaxPool2D((2, 1)))\n",
    "model.add(layers.Conv2D(96, (5, 5), input_shape=(40, 500, 1), padding='same'))\n",
    "model.add(layers.MaxPool2D((2, 1)))\n",
    "model.add(layers.Conv2D(96, (1, 1)))\n",
    "model.add(layers.Conv2D(96, (1, 1)))\n",
    "model.add(layers.MaxPool2D((1, 500)))\n",
    "model.add(layers.Flatten())\n",
    "model.add(layers.Dense(1))\n",
    "#model.add(layers.GRU(500, return_sequences=True))\n",
    "#model.add(layers.GRU(500, return_sequences=True))\n",
    "#model.add(layers.MaxPool1D(pool_size=500, data_format='channels_first'))\n",
    "#model.add(layers.Reshape((96,)))\n",
    "#model.add(layers.Dense(1))\n",
    "model.summary()"
   ]
  },
  {
   "cell_type": "code",
   "execution_count": 10,
   "metadata": {},
   "outputs": [],
   "source": [
    "model.compile(\n",
    "    optimizer='adam',\n",
    "    loss=tf.keras.losses.BinaryCrossentropy(from_logits=True),\n",
    "    metrics=['accuracy']\n",
    ")"
   ]
  },
  {
   "cell_type": "code",
   "execution_count": 11,
   "metadata": {},
   "outputs": [
    {
     "name": "stdout",
     "output_type": "stream",
     "text": [
      "Epoch 1/3\n",
      "25/25 [==============================] - 54s 2s/step - loss: 57.9910 - accuracy: 0.5677 - val_loss: 25.6628 - val_accuracy: 0.3266\n",
      "Epoch 2/3\n",
      "25/25 [==============================] - 58s 2s/step - loss: 11.3589 - accuracy: 0.5439 - val_loss: 1.6742 - val_accuracy: 0.6181\n",
      "Epoch 3/3\n",
      "25/25 [==============================] - 60s 2s/step - loss: 4.3861 - accuracy: 0.6015 - val_loss: 2.2520 - val_accuracy: 0.6482\n"
     ]
    },
    {
     "data": {
      "text/plain": [
       "<keras.callbacks.History at 0xffff4a2d0f70>"
      ]
     },
     "execution_count": 11,
     "metadata": {},
     "output_type": "execute_result"
    }
   ],
   "source": [
    "model.fit(\n",
    "  train_ds,\n",
    "  validation_data=val_ds,\n",
    "  epochs=3\n",
    ")"
   ]
  },
  {
   "cell_type": "code",
   "execution_count": null,
   "metadata": {},
   "outputs": [],
   "source": []
  }
 ],
 "metadata": {
  "interpreter": {
   "hash": "f9f85f796d01129d0dd105a088854619f454435301f6ffec2fea96ecbd9be4ac"
  },
  "kernelspec": {
   "display_name": "Python 3.9.5 64-bit",
   "language": "python",
   "name": "python3"
  },
  "language_info": {
   "codemirror_mode": {
    "name": "ipython",
    "version": 3
   },
   "file_extension": ".py",
   "mimetype": "text/x-python",
   "name": "python",
   "nbconvert_exporter": "python",
   "pygments_lexer": "ipython3",
   "version": "3.9.5"
  },
  "orig_nbformat": 4
 },
 "nbformat": 4,
 "nbformat_minor": 2
}
