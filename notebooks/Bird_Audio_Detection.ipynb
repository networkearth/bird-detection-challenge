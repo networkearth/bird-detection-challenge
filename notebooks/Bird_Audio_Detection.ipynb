{
  "nbformat": 4,
  "nbformat_minor": 0,
  "metadata": {
    "colab": {
      "provenance": [],
      "collapsed_sections": []
    },
    "kernelspec": {
      "name": "python3",
      "display_name": "Python 3"
    },
    "language_info": {
      "name": "python"
    },
    "accelerator": "GPU",
    "gpuClass": "premium"
  },
  "cells": [
    {
      "cell_type": "code",
      "source": [
        "import tensorflow as tf\n",
        "from tensorflow.keras import utils, layers, models"
      ],
      "metadata": {
        "id": "7I7IgHvbTWPl"
      },
      "execution_count": 1,
      "outputs": []
    },
    {
      "cell_type": "code",
      "source": [
        "data_dir = 'drive/MyDrive/Data/filtered_v1/filtered'\n",
        "train_ds = utils.image_dataset_from_directory(\n",
        "  data_dir,\n",
        "  validation_split=0.3,\n",
        "  subset=\"training\",\n",
        "  seed=123,\n",
        "  image_size=(40, 500),\n",
        "  batch_size=128*2\n",
        ")\n",
        "val_ds = utils.image_dataset_from_directory(\n",
        "  data_dir,\n",
        "  validation_split=0.3,\n",
        "  subset=\"validation\",\n",
        "  seed=123,\n",
        "  image_size=(40, 500),\n",
        "  batch_size=128*2\n",
        ")"
      ],
      "metadata": {
        "colab": {
          "base_uri": "https://localhost:8080/"
        },
        "id": "u-_LhhzxVAgL",
        "outputId": "cdc3ec95-aafb-4a3a-cdf6-1aabad01822b"
      },
      "execution_count": 3,
      "outputs": [
        {
          "output_type": "stream",
          "name": "stdout",
          "text": [
            "Found 15690 files belonging to 2 classes.\n",
            "Using 10983 files for training.\n",
            "Found 15690 files belonging to 2 classes.\n",
            "Using 4707 files for validation.\n"
          ]
        }
      ]
    },
    {
      "cell_type": "code",
      "source": [
        "auc = tf.keras.metrics.AUC()"
      ],
      "metadata": {
        "id": "fx3YZY1zaz-X"
      },
      "execution_count": 9,
      "outputs": []
    },
    {
      "cell_type": "code",
      "source": [
        "model = models.Sequential()\n",
        "\n",
        "model.add(layers.Conv2D(16, (3, 3), input_shape=(40, 500, 3), activation='relu'))\n",
        "model.add(layers.MaxPool2D((2, 2)))\n",
        "model.add(layers.Conv2D(32, (3, 3), activation='relu'))\n",
        "model.add(layers.MaxPool2D((2, 2)))\n",
        "model.add(layers.Conv2D(64, (3, 3), activation='relu'))\n",
        "model.add(layers.MaxPool2D((2, 2)))\n",
        "\n",
        "model.add(layers.Conv2D(128, (1, 5), activation='relu'))\n",
        "model.add(layers.MaxPool2D((1, 4)))\n",
        "\n",
        "model.add(layers.Flatten())\n",
        "model.add(layers.Dropout(0.5))\n",
        "model.add(layers.Dense(256, activation='relu'))\n",
        "model.add(layers.Dropout(0.5))\n",
        "model.add(layers.Dense(32, activation='relu'))\n",
        "model.add(layers.Dropout(0.5))\n",
        "model.add(layers.Dense(1, activation='sigmoid'))\n",
        "model.summary()"
      ],
      "metadata": {
        "colab": {
          "base_uri": "https://localhost:8080/"
        },
        "id": "_QFMiAFzVKhD",
        "outputId": "fd9db935-73e0-4d5e-8bb0-f07fc98d53e2"
      },
      "execution_count": 7,
      "outputs": [
        {
          "output_type": "stream",
          "name": "stdout",
          "text": [
            "Model: \"sequential_3\"\n",
            "_________________________________________________________________\n",
            " Layer (type)                Output Shape              Param #   \n",
            "=================================================================\n",
            " conv2d_9 (Conv2D)           (None, 38, 498, 16)       448       \n",
            "                                                                 \n",
            " max_pooling2d_9 (MaxPooling  (None, 19, 249, 16)      0         \n",
            " 2D)                                                             \n",
            "                                                                 \n",
            " conv2d_10 (Conv2D)          (None, 17, 247, 32)       4640      \n",
            "                                                                 \n",
            " max_pooling2d_10 (MaxPoolin  (None, 8, 123, 32)       0         \n",
            " g2D)                                                            \n",
            "                                                                 \n",
            " conv2d_11 (Conv2D)          (None, 6, 121, 64)        18496     \n",
            "                                                                 \n",
            " max_pooling2d_11 (MaxPoolin  (None, 3, 60, 64)        0         \n",
            " g2D)                                                            \n",
            "                                                                 \n",
            " conv2d_12 (Conv2D)          (None, 3, 56, 128)        41088     \n",
            "                                                                 \n",
            " max_pooling2d_12 (MaxPoolin  (None, 3, 14, 128)       0         \n",
            " g2D)                                                            \n",
            "                                                                 \n",
            " flatten_3 (Flatten)         (None, 5376)              0         \n",
            "                                                                 \n",
            " dropout (Dropout)           (None, 5376)              0         \n",
            "                                                                 \n",
            " dense_9 (Dense)             (None, 256)               1376512   \n",
            "                                                                 \n",
            " dropout_1 (Dropout)         (None, 256)               0         \n",
            "                                                                 \n",
            " dense_10 (Dense)            (None, 32)                8224      \n",
            "                                                                 \n",
            " dropout_2 (Dropout)         (None, 32)                0         \n",
            "                                                                 \n",
            " dense_11 (Dense)            (None, 1)                 33        \n",
            "                                                                 \n",
            "=================================================================\n",
            "Total params: 1,449,441\n",
            "Trainable params: 1,449,441\n",
            "Non-trainable params: 0\n",
            "_________________________________________________________________\n"
          ]
        }
      ]
    },
    {
      "cell_type": "code",
      "source": [
        "model.compile(\n",
        "    optimizer='adam',\n",
        "    loss=tf.keras.losses.BinaryCrossentropy(from_logits=False),\n",
        "    metrics=[auc, 'accuracy']\n",
        ")\n",
        "model.fit(\n",
        "  train_ds,\n",
        "  validation_data=val_ds,\n",
        "  epochs=40\n",
        ")"
      ],
      "metadata": {
        "colab": {
          "base_uri": "https://localhost:8080/"
        },
        "id": "sRi-sdIQVYFt",
        "outputId": "4a4de480-a0f1-45a3-d120-9bb57c4580db"
      },
      "execution_count": 8,
      "outputs": [
        {
          "output_type": "stream",
          "name": "stdout",
          "text": [
            "Epoch 1/40\n",
            "43/43 [==============================] - 349s 7s/step - loss: 1.8257 - auc: 0.6410 - accuracy: 0.6130 - val_loss: 0.4911 - val_auc: 0.8525 - val_accuracy: 0.7926\n",
            "Epoch 2/40\n",
            "43/43 [==============================] - 7s 148ms/step - loss: 0.5135 - auc: 0.8286 - accuracy: 0.7694 - val_loss: 0.4449 - val_auc: 0.8843 - val_accuracy: 0.8058\n",
            "Epoch 3/40\n",
            "43/43 [==============================] - 7s 149ms/step - loss: 0.4585 - auc: 0.8700 - accuracy: 0.8121 - val_loss: 0.4088 - val_auc: 0.9010 - val_accuracy: 0.8262\n",
            "Epoch 4/40\n",
            "43/43 [==============================] - 7s 149ms/step - loss: 0.4257 - auc: 0.8868 - accuracy: 0.8239 - val_loss: 0.3906 - val_auc: 0.9091 - val_accuracy: 0.8373\n",
            "Epoch 5/40\n",
            "43/43 [==============================] - 7s 148ms/step - loss: 0.4028 - auc: 0.9005 - accuracy: 0.8381 - val_loss: 0.3747 - val_auc: 0.9159 - val_accuracy: 0.8483\n",
            "Epoch 6/40\n",
            "43/43 [==============================] - 7s 146ms/step - loss: 0.3992 - auc: 0.9029 - accuracy: 0.8427 - val_loss: 0.3955 - val_auc: 0.9168 - val_accuracy: 0.8213\n",
            "Epoch 7/40\n",
            "43/43 [==============================] - 7s 148ms/step - loss: 0.3805 - auc: 0.9115 - accuracy: 0.8464 - val_loss: 0.3762 - val_auc: 0.9241 - val_accuracy: 0.8572\n",
            "Epoch 8/40\n",
            "43/43 [==============================] - 7s 150ms/step - loss: 0.3864 - auc: 0.9098 - accuracy: 0.8411 - val_loss: 0.3818 - val_auc: 0.9219 - val_accuracy: 0.8551\n",
            "Epoch 9/40\n",
            "43/43 [==============================] - 7s 150ms/step - loss: 0.3623 - auc: 0.9202 - accuracy: 0.8580 - val_loss: 0.3595 - val_auc: 0.9227 - val_accuracy: 0.8481\n",
            "Epoch 10/40\n",
            "43/43 [==============================] - 7s 149ms/step - loss: 0.3509 - auc: 0.9244 - accuracy: 0.8614 - val_loss: 0.3535 - val_auc: 0.9289 - val_accuracy: 0.8574\n",
            "Epoch 11/40\n",
            "43/43 [==============================] - 7s 150ms/step - loss: 0.3276 - auc: 0.9336 - accuracy: 0.8708 - val_loss: 0.3515 - val_auc: 0.9264 - val_accuracy: 0.8617\n",
            "Epoch 12/40\n",
            "43/43 [==============================] - 7s 149ms/step - loss: 0.3275 - auc: 0.9350 - accuracy: 0.8732 - val_loss: 0.3455 - val_auc: 0.9283 - val_accuracy: 0.8615\n",
            "Epoch 13/40\n",
            "43/43 [==============================] - 7s 147ms/step - loss: 0.3051 - auc: 0.9419 - accuracy: 0.8785 - val_loss: 0.3585 - val_auc: 0.9266 - val_accuracy: 0.8598\n",
            "Epoch 14/40\n",
            "43/43 [==============================] - 7s 148ms/step - loss: 0.3048 - auc: 0.9433 - accuracy: 0.8801 - val_loss: 0.3563 - val_auc: 0.9286 - val_accuracy: 0.8587\n",
            "Epoch 15/40\n",
            "43/43 [==============================] - 7s 147ms/step - loss: 0.2831 - auc: 0.9507 - accuracy: 0.8895 - val_loss: 0.3642 - val_auc: 0.9268 - val_accuracy: 0.8583\n",
            "Epoch 16/40\n",
            "43/43 [==============================] - 7s 147ms/step - loss: 0.2733 - auc: 0.9540 - accuracy: 0.8938 - val_loss: 0.3431 - val_auc: 0.9324 - val_accuracy: 0.8659\n",
            "Epoch 17/40\n",
            "43/43 [==============================] - 7s 145ms/step - loss: 0.2663 - auc: 0.9569 - accuracy: 0.8967 - val_loss: 0.3520 - val_auc: 0.9328 - val_accuracy: 0.8666\n",
            "Epoch 18/40\n",
            "43/43 [==============================] - 7s 148ms/step - loss: 0.2785 - auc: 0.9530 - accuracy: 0.8923 - val_loss: 0.3570 - val_auc: 0.9295 - val_accuracy: 0.8651\n",
            "Epoch 19/40\n",
            "43/43 [==============================] - 7s 150ms/step - loss: 0.2585 - auc: 0.9585 - accuracy: 0.8979 - val_loss: 0.3457 - val_auc: 0.9307 - val_accuracy: 0.8651\n",
            "Epoch 20/40\n",
            "43/43 [==============================] - 7s 148ms/step - loss: 0.2431 - auc: 0.9637 - accuracy: 0.9029 - val_loss: 0.4269 - val_auc: 0.9280 - val_accuracy: 0.8606\n",
            "Epoch 21/40\n",
            "43/43 [==============================] - 7s 145ms/step - loss: 0.2382 - auc: 0.9650 - accuracy: 0.9088 - val_loss: 0.3975 - val_auc: 0.9272 - val_accuracy: 0.8540\n",
            "Epoch 22/40\n",
            "43/43 [==============================] - 7s 148ms/step - loss: 0.2394 - auc: 0.9643 - accuracy: 0.9046 - val_loss: 0.3846 - val_auc: 0.9293 - val_accuracy: 0.8604\n",
            "Epoch 23/40\n",
            "43/43 [==============================] - 7s 146ms/step - loss: 0.2232 - auc: 0.9698 - accuracy: 0.9144 - val_loss: 0.3652 - val_auc: 0.9277 - val_accuracy: 0.8598\n",
            "Epoch 24/40\n",
            "43/43 [==============================] - 7s 147ms/step - loss: 0.2047 - auc: 0.9742 - accuracy: 0.9210 - val_loss: 0.4434 - val_auc: 0.9262 - val_accuracy: 0.8555\n",
            "Epoch 25/40\n",
            "43/43 [==============================] - 7s 147ms/step - loss: 0.1940 - auc: 0.9768 - accuracy: 0.9222 - val_loss: 0.4149 - val_auc: 0.9275 - val_accuracy: 0.8647\n",
            "Epoch 26/40\n",
            "43/43 [==============================] - 7s 149ms/step - loss: 0.1875 - auc: 0.9784 - accuracy: 0.9260 - val_loss: 0.4612 - val_auc: 0.9284 - val_accuracy: 0.8625\n",
            "Epoch 27/40\n",
            "43/43 [==============================] - 7s 148ms/step - loss: 0.1796 - auc: 0.9803 - accuracy: 0.9297 - val_loss: 0.4182 - val_auc: 0.9300 - val_accuracy: 0.8638\n",
            "Epoch 28/40\n",
            "43/43 [==============================] - 7s 150ms/step - loss: 0.1848 - auc: 0.9789 - accuracy: 0.9282 - val_loss: 0.4400 - val_auc: 0.9274 - val_accuracy: 0.8674\n",
            "Epoch 29/40\n",
            "43/43 [==============================] - 7s 144ms/step - loss: 0.1691 - auc: 0.9823 - accuracy: 0.9329 - val_loss: 0.4911 - val_auc: 0.9275 - val_accuracy: 0.8700\n",
            "Epoch 30/40\n",
            "43/43 [==============================] - 7s 148ms/step - loss: 0.1689 - auc: 0.9822 - accuracy: 0.9356 - val_loss: 0.4737 - val_auc: 0.9285 - val_accuracy: 0.8670\n",
            "Epoch 31/40\n",
            "43/43 [==============================] - 7s 148ms/step - loss: 0.1495 - auc: 0.9863 - accuracy: 0.9426 - val_loss: 0.4901 - val_auc: 0.9275 - val_accuracy: 0.8611\n",
            "Epoch 32/40\n",
            "43/43 [==============================] - 7s 149ms/step - loss: 0.1602 - auc: 0.9839 - accuracy: 0.9365 - val_loss: 0.4315 - val_auc: 0.9262 - val_accuracy: 0.8572\n",
            "Epoch 33/40\n",
            "43/43 [==============================] - 7s 145ms/step - loss: 0.1544 - auc: 0.9854 - accuracy: 0.9384 - val_loss: 0.5178 - val_auc: 0.9268 - val_accuracy: 0.8668\n",
            "Epoch 34/40\n",
            "43/43 [==============================] - 7s 146ms/step - loss: 0.1459 - auc: 0.9868 - accuracy: 0.9448 - val_loss: 0.4622 - val_auc: 0.9247 - val_accuracy: 0.8611\n",
            "Epoch 35/40\n",
            "43/43 [==============================] - 7s 147ms/step - loss: 0.1335 - auc: 0.9889 - accuracy: 0.9486 - val_loss: 0.5344 - val_auc: 0.9274 - val_accuracy: 0.8670\n",
            "Epoch 36/40\n",
            "43/43 [==============================] - 7s 147ms/step - loss: 0.1550 - auc: 0.9852 - accuracy: 0.9412 - val_loss: 0.5126 - val_auc: 0.9237 - val_accuracy: 0.8570\n",
            "Epoch 37/40\n",
            "43/43 [==============================] - 7s 148ms/step - loss: 0.1431 - auc: 0.9871 - accuracy: 0.9467 - val_loss: 0.4994 - val_auc: 0.9262 - val_accuracy: 0.8651\n",
            "Epoch 38/40\n",
            "43/43 [==============================] - 7s 147ms/step - loss: 0.1145 - auc: 0.9917 - accuracy: 0.9575 - val_loss: 0.5114 - val_auc: 0.9281 - val_accuracy: 0.8657\n",
            "Epoch 39/40\n",
            "43/43 [==============================] - 7s 147ms/step - loss: 0.1267 - auc: 0.9896 - accuracy: 0.9533 - val_loss: 0.4630 - val_auc: 0.9295 - val_accuracy: 0.8655\n",
            "Epoch 40/40\n",
            "43/43 [==============================] - 7s 149ms/step - loss: 0.1167 - auc: 0.9914 - accuracy: 0.9552 - val_loss: 0.6355 - val_auc: 0.9222 - val_accuracy: 0.8647\n"
          ]
        },
        {
          "output_type": "execute_result",
          "data": {
            "text/plain": [
              "<keras.callbacks.History at 0x7f1a4cf17e10>"
            ]
          },
          "metadata": {},
          "execution_count": 8
        }
      ]
    },
    {
      "cell_type": "code",
      "source": [],
      "metadata": {
        "id": "0HkfJuqg5XQ7"
      },
      "execution_count": null,
      "outputs": []
    }
  ]
}